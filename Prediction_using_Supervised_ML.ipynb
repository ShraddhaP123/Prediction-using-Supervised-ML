{
  "nbformat": 4,
  "nbformat_minor": 0,
  "metadata": {
    "colab": {
      "name": "Prediction using Supervised ML.ipynb",
      "provenance": [],
      "collapsed_sections": [],
      "authorship_tag": "ABX9TyOCJbuwILIHFjIIHm7sSm/S",
      "include_colab_link": true
    },
    "kernelspec": {
      "name": "python3",
      "display_name": "Python 3"
    },
    "language_info": {
      "name": "python"
    }
  },
  "cells": [
    {
      "cell_type": "markdown",
      "metadata": {
        "id": "view-in-github",
        "colab_type": "text"
      },
      "source": [
        "<a href=\"https://colab.research.google.com/github/ShraddhaP123/Prediction-using-Supervised-ML/blob/main/Prediction_using_Supervised_ML.ipynb\" target=\"_parent\"><img src=\"https://colab.research.google.com/assets/colab-badge.svg\" alt=\"Open In Colab\"/></a>"
      ]
    },
    {
      "cell_type": "markdown",
      "metadata": {
        "id": "d1FpcuurwkM0"
      },
      "source": [
        "**Task 1 : Prediction using Supervised ML**\n",
        "\n"
      ]
    },
    {
      "cell_type": "markdown",
      "metadata": {
        "id": "B1pHY_3Zxzrm"
      },
      "source": [
        "**Data Science & Business Analytics** "
      ]
    },
    {
      "cell_type": "markdown",
      "metadata": {
        "id": "cZIDWQUMx4lU"
      },
      "source": [
        "**The Spark Foundation July 21**"
      ]
    },
    {
      "cell_type": "markdown",
      "metadata": {
        "id": "i9urpSW9x6Tk"
      },
      "source": [
        "**Author : Shraddha Pattanshetti**"
      ]
    },
    {
      "cell_type": "markdown",
      "metadata": {
        "id": "gig_nYi0ykwE"
      },
      "source": [
        "**OBJECTIVE : Predict the percentage of an student based on the no. of study hours.**\n"
      ]
    },
    {
      "cell_type": "code",
      "metadata": {
        "id": "SYlWOtXj5nHj"
      },
      "source": [
        "# IMPORTING ALL THE REQUIRED LIBRARIES LIKE PANDAS, NUMPY, MATPLOTLIB, SEABORN, SKLEARN, MATH\n",
        "\n",
        "import pandas as pd\n",
        "import numpy as np\n",
        "import matplotlib.pyplot as plt \n",
        "import seaborn as sns\n",
        "from sklearn.model_selection import train_test_split\n",
        "from sklearn.linear_model import LinearRegression\n",
        "from sklearn.metrics import mean_absolute_error\n",
        "from sklearn.metrics import mean_squared_error\n",
        "import math\n"
      ],
      "execution_count": 36,
      "outputs": []
    },
    {
      "cell_type": "code",
      "metadata": {
        "colab": {
          "base_uri": "https://localhost:8080/"
        },
        "id": "rhUnmiFw7N5n",
        "outputId": "0d5eb285-486a-413d-acc7-9e3abbdb065c"
      },
      "source": [
        "# READ A CSV FILE \n",
        "\n",
        "Link = \"http://bit.ly/w-data\"\n",
        "df = pd.read_csv(Link)\n",
        "print(\"Data from a CSV File Read Successfully\")"
      ],
      "execution_count": 8,
      "outputs": [
        {
          "output_type": "stream",
          "text": [
            "Data from a CSV File Read Successfully\n"
          ],
          "name": "stdout"
        }
      ]
    },
    {
      "cell_type": "code",
      "metadata": {
        "colab": {
          "base_uri": "https://localhost:8080/",
          "height": 203
        },
        "id": "HF88wksW8IJY",
        "outputId": "755b2f9c-288e-4e6e-a73d-4feedfad536f"
      },
      "source": [
        "# PRINT FIRST 5 RECORDS IN THE FILE\n",
        "\n",
        "df.head(5)"
      ],
      "execution_count": 11,
      "outputs": [
        {
          "output_type": "execute_result",
          "data": {
            "text/html": [
              "<div>\n",
              "<style scoped>\n",
              "    .dataframe tbody tr th:only-of-type {\n",
              "        vertical-align: middle;\n",
              "    }\n",
              "\n",
              "    .dataframe tbody tr th {\n",
              "        vertical-align: top;\n",
              "    }\n",
              "\n",
              "    .dataframe thead th {\n",
              "        text-align: right;\n",
              "    }\n",
              "</style>\n",
              "<table border=\"1\" class=\"dataframe\">\n",
              "  <thead>\n",
              "    <tr style=\"text-align: right;\">\n",
              "      <th></th>\n",
              "      <th>Hours</th>\n",
              "      <th>Scores</th>\n",
              "    </tr>\n",
              "  </thead>\n",
              "  <tbody>\n",
              "    <tr>\n",
              "      <th>0</th>\n",
              "      <td>2.5</td>\n",
              "      <td>21</td>\n",
              "    </tr>\n",
              "    <tr>\n",
              "      <th>1</th>\n",
              "      <td>5.1</td>\n",
              "      <td>47</td>\n",
              "    </tr>\n",
              "    <tr>\n",
              "      <th>2</th>\n",
              "      <td>3.2</td>\n",
              "      <td>27</td>\n",
              "    </tr>\n",
              "    <tr>\n",
              "      <th>3</th>\n",
              "      <td>8.5</td>\n",
              "      <td>75</td>\n",
              "    </tr>\n",
              "    <tr>\n",
              "      <th>4</th>\n",
              "      <td>3.5</td>\n",
              "      <td>30</td>\n",
              "    </tr>\n",
              "  </tbody>\n",
              "</table>\n",
              "</div>"
            ],
            "text/plain": [
              "   Hours  Scores\n",
              "0    2.5      21\n",
              "1    5.1      47\n",
              "2    3.2      27\n",
              "3    8.5      75\n",
              "4    3.5      30"
            ]
          },
          "metadata": {
            "tags": []
          },
          "execution_count": 11
        }
      ]
    },
    {
      "cell_type": "code",
      "metadata": {
        "colab": {
          "base_uri": "https://localhost:8080/"
        },
        "id": "OUP8OsQc8lyB",
        "outputId": "a04f87a7-43a3-48d6-8672-1b56efa55ed5"
      },
      "source": [
        "# CHECKING IF DATA CONSISTS ANY NULL VALUE\n",
        "\n",
        "df.isnull == True "
      ],
      "execution_count": 5,
      "outputs": [
        {
          "output_type": "execute_result",
          "data": {
            "text/plain": [
              "False"
            ]
          },
          "metadata": {
            "tags": []
          },
          "execution_count": 5
        }
      ]
    },
    {
      "cell_type": "code",
      "metadata": {
        "colab": {
          "base_uri": "https://localhost:8080/",
          "height": 292
        },
        "id": "7yS_tg8AAh7q",
        "outputId": "7ab51c97-c954-455d-8653-5b4b641d53fb"
      },
      "source": [
        "# PLOT THE SCORES DISTRIBUTION IN ORDER TO FIND RELATION BETWEEN THE DATA\n",
        "\n",
        "sns.set_style('whitegrid')\n",
        "sns.scatterplot(y= df['Scores'], x= df['Hours'])\n",
        "plt.title('Hours Studied vs Percentage Gained',size=10)\n",
        "plt.ylabel('Marks in Percentage', size=8)\n",
        "plt.xlabel('No. of Hours Studied', size=8)\n",
        "plt.show()"
      ],
      "execution_count": 14,
      "outputs": [
        {
          "output_type": "display_data",
          "data": {
            "image/png": "[encoded data removed]",
            "text/plain": [
              "<Figure size 432x288 with 1 Axes>"
            ]
          },
          "metadata": {
            "tags": []
          }
        }
      ]
    },
    {
      "cell_type": "markdown",
      "metadata": {
        "id": "Tfyf3M19DDt-"
      },
      "source": [
        "**FROM ABOVE PLOT WE CAN CLEARLY DETERMINE THAT THERE IS A POSITIVE LINEAR RELATION BETWEEN NO. OF HOURS STUDIED AND MARKS IN PERCENTAGE OBTAINED BY STUDENT**"
      ]
    },
    {
      "cell_type": "code",
      "metadata": {
        "colab": {
          "base_uri": "https://localhost:8080/",
          "height": 345
        },
        "id": "FTpvCCBQBoiw",
        "outputId": "e697be59-6431-4c2e-99b8-60b944ca4451"
      },
      "source": [
        "# REGRESSION PLOT \n",
        "\n",
        "sns.set_style('whitegrid')\n",
        "sns.regplot(x= df['Hours'], y= df['Scores'])\n",
        "plt.title('Regression Plot',size=10)\n",
        "plt.ylabel('Marks in Percentage', size=8)\n",
        "plt.xlabel('No of Hours Studied', size=8)\n",
        "plt.show()\n",
        "print(df.corr())"
      ],
      "execution_count": 15,
      "outputs": [
        {
          "output_type": "display_data",
          "data": {
            "image/png": "[encoded data removed]",
            "text/plain": [
              "<Figure size 432x288 with 1 Axes>"
            ]
          },
          "metadata": {
            "tags": []
          }
        },
        {
          "output_type": "stream",
          "text": [
            "           Hours    Scores\n",
            "Hours   1.000000  0.976191\n",
            "Scores  0.976191  1.000000\n"
          ],
          "name": "stdout"
        }
      ]
    },
    {
      "cell_type": "markdown",
      "metadata": {
        "id": "Aq-fRFiFFYzW"
      },
      "source": [
        "**REGRESSION PLOT PROVES THE POSITIVE CORELATION BETWEEN THE ABOVE DATA**"
      ]
    },
    {
      "cell_type": "markdown",
      "metadata": {
        "id": "lIaecvdoFtyl"
      },
      "source": [
        "**1.**   **DATA PREPARATION**\n",
        "\n",
        "\n"
      ]
    },
    {
      "cell_type": "code",
      "metadata": {
        "id": "qiEkoCokFtEF"
      },
      "source": [
        "# DIVIDE DATA INTO ATTRIBUTES(INPUTS) AND LABELS(OUTPUTS)\n",
        "\n",
        "X = df.iloc[:, :-1].values  \n",
        "Y = df.iloc[:, 1].values  "
      ],
      "execution_count": 19,
      "outputs": []
    },
    {
      "cell_type": "code",
      "metadata": {
        "id": "9QLmH07uFhrO"
      },
      "source": [
        "# SPLITTING DATA INTO TRAINING AND TESTING DATASETS\n",
        "\n",
        "X_train, X_test, Y_train, Y_test = train_test_split(X, Y, test_size=0.2, random_state=0)"
      ],
      "execution_count": 21,
      "outputs": []
    },
    {
      "cell_type": "markdown",
      "metadata": {
        "id": "va8Pse6fQOwi"
      },
      "source": [
        "\n",
        "**2.   TRAINING THE ALGORITHM**\n",
        "\n"
      ]
    },
    {
      "cell_type": "code",
      "metadata": {
        "colab": {
          "base_uri": "https://localhost:8080/"
        },
        "id": "Zzx8WUANO_0d",
        "outputId": "39561d9b-4b15-4dea-881b-c8d329a8457c"
      },
      "source": [
        "# TRAINING THE ALGORITHM USING LINEAR REGRESSION MODEL\n",
        "\n",
        "regression = LinearRegression()\n",
        "regression.fit(X_train, Y_train)\n",
        "print(\"Successful completion of training the model\")"
      ],
      "execution_count": 22,
      "outputs": [
        {
          "output_type": "stream",
          "text": [
            "Successful completion of training\n"
          ],
          "name": "stdout"
        }
      ]
    },
    {
      "cell_type": "markdown",
      "metadata": {
        "id": "27kIm5spQcOD"
      },
      "source": [
        "**3.   MAKING PREDICTION**\n"
      ]
    },
    {
      "cell_type": "code",
      "metadata": {
        "colab": {
          "base_uri": "https://localhost:8080/",
          "height": 291
        },
        "id": "3ITKmnrNQEc8",
        "outputId": "1a9223ea-69c3-40bb-fb0b-6fc80952196a"
      },
      "source": [
        "# PRINTING TESTING DATA\n",
        "\n",
        "print(X_test) \n",
        "\n",
        "# PREDICTING THE SCORES\n",
        "\n",
        "Y_prediction = regression.predict(X_test)\n",
        "prediction = pd.DataFrame({'Hours': [i[0] for i in X_test], 'Predicted Marks': [k for k in Y_prediction]})\n",
        "prediction"
      ],
      "execution_count": 23,
      "outputs": [
        {
          "output_type": "stream",
          "text": [
            "[[1.5]\n",
            " [3.2]\n",
            " [7.4]\n",
            " [2.5]\n",
            " [5.9]]\n"
          ],
          "name": "stdout"
        },
        {
          "output_type": "execute_result",
          "data": {
            "text/html": [
              "<div>\n",
              "<style scoped>\n",
              "    .dataframe tbody tr th:only-of-type {\n",
              "        vertical-align: middle;\n",
              "    }\n",
              "\n",
              "    .dataframe tbody tr th {\n",
              "        vertical-align: top;\n",
              "    }\n",
              "\n",
              "    .dataframe thead th {\n",
              "        text-align: right;\n",
              "    }\n",
              "</style>\n",
              "<table border=\"1\" class=\"dataframe\">\n",
              "  <thead>\n",
              "    <tr style=\"text-align: right;\">\n",
              "      <th></th>\n",
              "      <th>Hours</th>\n",
              "      <th>Predicted Marks</th>\n",
              "    </tr>\n",
              "  </thead>\n",
              "  <tbody>\n",
              "    <tr>\n",
              "      <th>0</th>\n",
              "      <td>1.5</td>\n",
              "      <td>16.884145</td>\n",
              "    </tr>\n",
              "    <tr>\n",
              "      <th>1</th>\n",
              "      <td>3.2</td>\n",
              "      <td>33.732261</td>\n",
              "    </tr>\n",
              "    <tr>\n",
              "      <th>2</th>\n",
              "      <td>7.4</td>\n",
              "      <td>75.357018</td>\n",
              "    </tr>\n",
              "    <tr>\n",
              "      <th>3</th>\n",
              "      <td>2.5</td>\n",
              "      <td>26.794801</td>\n",
              "    </tr>\n",
              "    <tr>\n",
              "      <th>4</th>\n",
              "      <td>5.9</td>\n",
              "      <td>60.491033</td>\n",
              "    </tr>\n",
              "  </tbody>\n",
              "</table>\n",
              "</div>"
            ],
            "text/plain": [
              "   Hours  Predicted Marks\n",
              "0    1.5        16.884145\n",
              "1    3.2        33.732261\n",
              "2    7.4        75.357018\n",
              "3    2.5        26.794801\n",
              "4    5.9        60.491033"
            ]
          },
          "metadata": {
            "tags": []
          },
          "execution_count": 23
        }
      ]
    },
    {
      "cell_type": "code",
      "metadata": {
        "colab": {
          "base_uri": "https://localhost:8080/",
          "height": 203
        },
        "id": "a1YQJyvCSjfj",
        "outputId": "7faf13c0-7b51-4124-8f63-3c26f2482266"
      },
      "source": [
        "# COMPARING ACTUAL WITH PREDICTED VALUE\n",
        "\n",
        "C_Scores = pd.DataFrame({'Actual Marks': Y_test, 'Predicted Marks': Y_prediction})\n",
        "C_Scores"
      ],
      "execution_count": 25,
      "outputs": [
        {
          "output_type": "execute_result",
          "data": {
            "text/html": [
              "<div>\n",
              "<style scoped>\n",
              "    .dataframe tbody tr th:only-of-type {\n",
              "        vertical-align: middle;\n",
              "    }\n",
              "\n",
              "    .dataframe tbody tr th {\n",
              "        vertical-align: top;\n",
              "    }\n",
              "\n",
              "    .dataframe thead th {\n",
              "        text-align: right;\n",
              "    }\n",
              "</style>\n",
              "<table border=\"1\" class=\"dataframe\">\n",
              "  <thead>\n",
              "    <tr style=\"text-align: right;\">\n",
              "      <th></th>\n",
              "      <th>Actual Marks</th>\n",
              "      <th>Predicted Marks</th>\n",
              "    </tr>\n",
              "  </thead>\n",
              "  <tbody>\n",
              "    <tr>\n",
              "      <th>0</th>\n",
              "      <td>20</td>\n",
              "      <td>16.884145</td>\n",
              "    </tr>\n",
              "    <tr>\n",
              "      <th>1</th>\n",
              "      <td>27</td>\n",
              "      <td>33.732261</td>\n",
              "    </tr>\n",
              "    <tr>\n",
              "      <th>2</th>\n",
              "      <td>69</td>\n",
              "      <td>75.357018</td>\n",
              "    </tr>\n",
              "    <tr>\n",
              "      <th>3</th>\n",
              "      <td>30</td>\n",
              "      <td>26.794801</td>\n",
              "    </tr>\n",
              "    <tr>\n",
              "      <th>4</th>\n",
              "      <td>62</td>\n",
              "      <td>60.491033</td>\n",
              "    </tr>\n",
              "  </tbody>\n",
              "</table>\n",
              "</div>"
            ],
            "text/plain": [
              "   Actual Marks  Predicted Marks\n",
              "0            20        16.884145\n",
              "1            27        33.732261\n",
              "2            69        75.357018\n",
              "3            30        26.794801\n",
              "4            62        60.491033"
            ]
          },
          "metadata": {
            "tags": []
          },
          "execution_count": 25
        }
      ]
    },
    {
      "cell_type": "code",
      "metadata": {
        "colab": {
          "base_uri": "https://localhost:8080/",
          "height": 292
        },
        "id": "XkM4jrSzVsNR",
        "outputId": "16683161-fc4e-4497-dd3c-f567233e48f8"
      },
      "source": [
        "# VISUALLY COMPARING ACTUAL WITH PREDICTED VALUE\n",
        "\n",
        "plt.scatter(x=X_test, y=Y_test, color='Red')\n",
        "plt.plot(X_test, Y_prediction, color='Blue')\n",
        "plt.title('Actual marks vs Predicted marks', size=10)\n",
        "plt.ylabel('Marks in Percentage', size=8)\n",
        "plt.xlabel('No. of Hours Studied', size=8)\n",
        "plt.show()"
      ],
      "execution_count": 26,
      "outputs": [
        {
          "output_type": "display_data",
          "data": {
            "image/png": "[encoded data removed]",
            "text/plain": [
              "<Figure size 432x288 with 1 Axes>"
            ]
          },
          "metadata": {
            "tags": []
          }
        }
      ]
    },
    {
      "cell_type": "markdown",
      "metadata": {
        "id": "bT-2My1pX0xo"
      },
      "source": [
        "**4.   MODEL EVALUATION**"
      ]
    },
    {
      "cell_type": "code",
      "metadata": {
        "colab": {
          "base_uri": "https://localhost:8080/"
        },
        "id": "yeF5KSC2WztC",
        "outputId": "3be88e8c-057f-49b6-d30f-e743b39217be"
      },
      "source": [
        "# CALCULATING THE ACCURACY OF THE MODEL\n",
        "print('Mean Absolute Error: ', mean_absolute_error(Y_test, Y_prediction))\n",
        "print('Mean Squared Error: ', mean_squared_error(Y_test, Y_prediction))\n",
        "print('Root Mean Square Error: ', math.sqrt(mean_squared_error(Y_test, Y_prediction)))"
      ],
      "execution_count": 37,
      "outputs": [
        {
          "output_type": "stream",
          "text": [
            "Mean Absolute Error:  4.183859899002982\n",
            "Mean Squared Error:  21.598769307217456\n",
            "Root Mean Square Error:  4.647447612100373\n"
          ],
          "name": "stdout"
        }
      ]
    },
    {
      "cell_type": "markdown",
      "metadata": {
        "id": "-kWMLI2cbGV_"
      },
      "source": [
        "**PREDICTED SCORE WHEN STUDENT STUDIES FOR 9.25 HRS/DAY**"
      ]
    },
    {
      "cell_type": "code",
      "metadata": {
        "colab": {
          "base_uri": "https://localhost:8080/"
        },
        "id": "cMK-AoTVa6M5",
        "outputId": "b9b070fb-7217-44e6-b541-b033234af50e"
      },
      "source": [
        "# PREDICTING THE PERCENTAGE WHEN HOUR=9.25\n",
        "\n",
        "Hours = [9.25]\n",
        "Predicted_percentage = regression.predict([Hours])\n",
        "print(\"Predicted Score = {}\".format(Predicted_percentage[0],3))"
      ],
      "execution_count": 44,
      "outputs": [
        {
          "output_type": "stream",
          "text": [
            "Predicted Score = 93.69173248737539\n"
          ],
          "name": "stdout"
        }
      ]
    },
    {
      "cell_type": "markdown",
      "metadata": {
        "id": "iZi39bbFdC8R"
      },
      "source": [
        "**TO CONCLUDE, AFTER SPENDING 9.25 HOURS STUDYING, IT IS LIKELY THAT THE STUDENT GETS 93.69 PERCENT MARKS**"
      ]
    }
  ]
}